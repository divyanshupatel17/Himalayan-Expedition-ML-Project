{
 "cells": [
  {
   "cell_type": "markdown",
   "id": "dc06b23b",
   "metadata": {},
   "source": [
    "# Himalayan Expedition Success Prediction - Random Forest Model\n",
    "\n",
    "**Author**: \n",
    "\n",
    "This notebook demonstrates the implementation of a Random Forest model for predicting Himalayan expedition success."
   ]
  },
  {
   "cell_type": "code",
   "execution_count": null,
   "id": "b53efd1a",
   "metadata": {},
   "outputs": [],
   "source": [
    "# Import required libraries\n",
    "import pandas as pd\n",
    "import numpy as np\n",
    "import sys\n",
    "import os\n",
    "\n",
    "# Add the src directory to the path\n",
    "sys.path.append(os.path.join('..', '..', 'src'))\n",
    "\n",
    "# Import custom modules\n",
    "from data_loader import load_data, create_master_dataset\n",
    "from utils import prepare_features, save_model, evaluate_model\n",
    "\n",
    "from sklearn.ensemble import RandomForestClassifier\n",
    "from sklearn.model_selection import train_test_split\n",
    "from sklearn.preprocessing import StandardScaler\n",
    "\n",
    "print(\"Random Forest Model Implementation for Himalayan Expedition Success Prediction\")"
   ]
  },
  {
   "cell_type": "code",
   "execution_count": null,
   "id": "ae5464a7",
   "metadata": {},
   "outputs": [],
   "source": [
    "# Load and preprocess the data\n",
    "print(\"Loading and preprocessing data...\")\n",
    "\n",
    "# Load the real Himalayan expedition dataset\n",
    "# Make sure you've downloaded the dataset from Kaggle and placed it in data/\n",
    "expeditions, members, peaks = load_data()\n",
    "\n",
    "if expeditions is not None:\n",
    "    print(\"Data loaded successfully!\")\n",
    "    \n",
    "    # Create master dataset by joining all three DataFrames\n",
    "    df = create_master_dataset(expeditions, members, peaks)\n",
    "    print(f\"Created master dataset: {df.shape}\")\n",
    "else:\n",
    "    print(\"Could not load real data. Creating sample data for demonstration.\")\n",
    "    \n",
    "    # Create sample data for demonstration\n",
    "    np.random.seed(42)\n",
    "    n_samples = 1000\n",
    "    \n",
    "    sample_data = {\n",
    "        'age': np.random.randint(20, 65, n_samples),\n",
    "        'sex': np.random.choice(['M', 'F'], n_samples),\n",
    "        'season': np.random.choice(['Spring', 'Autumn', 'Winter', 'Summer'], n_samples),\n",
    "        'members': np.random.randint(1, 20, n_samples),\n",
    "        'hired_staff': np.random.randint(0, 15, n_samples),\n",
    "        'heightm': np.random.randint(6000, 8900, n_samples),\n",
    "        'o2used': np.random.choice([True, False], n_samples),\n",
    "        'totmembers': np.random.randint(1, 20, n_samples),\n",
    "        'success1': np.random.choice([True, False], n_samples)\n",
    "    }\n",
    "    \n",
    "    df = pd.DataFrame(sample_data)\n",
    "    print(f\"Created sample dataset: {df.shape}\")"
   ]
  },
  {
   "cell_type": "code",
   "execution_count": null,
   "id": "498f8d2a",
   "metadata": {},
   "outputs": [],
   "source": [
    "# Prepare features for modeling\n",
    "print(\"Preparing features...\")\n",
    "\n",
    "X, y, encoders = prepare_features(df)\n",
    "print(f\"Feature matrix shape: {X.shape}\")\n",
    "print(f\"Target vector shape: {y.shape}\")\n",
    "\n",
    "# Split the data\n",
    "X_train, X_test, y_train, y_test = train_test_split(X, y, test_size=0.2, random_state=42)\n",
    "\n",
    "# Scale features\n",
    "scaler = StandardScaler()\n",
    "X_train_scaled = scaler.fit_transform(X_train)\n",
    "X_test_scaled = scaler.transform(X_test)\n",
    "\n",
    "print(f\"Training set size: {X_train.shape[0]} samples\")\n",
    "print(f\"Test set size: {X_test.shape[0]} samples\")"
   ]
  },
  {
   "cell_type": "code",
   "execution_count": null,
   "id": "ff75f91f",
   "metadata": {},
   "outputs": [],
   "source": [
    "# Random Forest Model Implementation\n",
    "print(\"Training Random Forest model...\")\n",
    "\n",
    "# Create Random Forest classifier\n",
    "rf_model = RandomForestClassifier(\n",
    "    n_estimators=100,\n",
    "    max_depth=10,\n",
    "    min_samples_split=5,\n",
    "    min_samples_leaf=2,\n",
    "    random_state=42\n",
    ")\n",
    "\n",
    "# Train the model\n",
    "rf_model.fit(X_train_scaled, y_train)\n",
    "\n",
    "# Make predictions\n",
    "y_pred = rf_model.predict(X_test_scaled)\n",
    "\n",
    "# Calculate accuracy\n",
    "results = evaluate_model(y_test, y_pred)\n",
    "print(f\"Random Forest Model Accuracy: {results['accuracy']:.4f}\")"
   ]
  },
  {
   "cell_type": "code",
   "execution_count": null,
   "id": "b78dc30a",
   "metadata": {},
   "outputs": [],
   "source": [
    "# Save the model\n",
    "print(\"Saving the model...\")\n",
    "save_model(rf_model, encoders, scaler, 'random_forest')\n",
    "print(\"Model saved successfully!\")\n",
    "\n",
    "print(\"\\nRandom Forest model training completed!\")\n",
    "print(f\"Accuracy: {results['accuracy']:.4f}\")\n",
    "print(\"Model saved to saved_models/random_forest_model.pkl\")"
   ]
  }
 ],
 "metadata": {
  "kernelspec": {
   "display_name": "Python 3",
   "language": "python",
   "name": "python3"
  },
  "language_info": {
   "codemirror_mode": {
    "name": "ipython",
    "version": 3
   },
   "file_extension": ".py",
   "mimetype": "text/x-python",
   "name": "python",
   "nbconvert_exporter": "python",
   "pygments_lexer": "ipython3",
   "version": "3.10.11"
  }
 },
 "nbformat": 4,
 "nbformat_minor": 5
}
