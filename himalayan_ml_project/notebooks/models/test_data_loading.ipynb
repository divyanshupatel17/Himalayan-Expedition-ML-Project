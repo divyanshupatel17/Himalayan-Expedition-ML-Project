{
 "cells": [
  {
   "cell_type": "markdown",
   "id": "a256854b",
   "metadata": {},
   "source": [
    "# Test Data Loading\n",
    "\n",
    "**Author**: Divyanshu Patel - 23BAI1214\n",
    "\n",
    "This notebook tests if the data loading is working correctly."
   ]
  },
  {
   "cell_type": "code",
   "execution_count": null,
   "id": "7ab5b542",
   "metadata": {},
   "outputs": [],
   "source": [
    "# Import required libraries\n",
    "import pandas as pd\n",
    "import numpy as np\n",
    "import sys\n",
    "import os\n",
    "\n",
    "# Add the src directory to the path\n",
    "sys.path.append(os.path.join('..', '..', 'src'))\n",
    "\n",
    "# Import custom modules\n",
    "from data_loader import load_data, create_master_dataset\n",
    "\n",
    "print(\"Testing data loading from notebook...\")"
   ]
  },
  {
   "cell_type": "code",
   "execution_count": null,
   "id": "160ebc81",
   "metadata": {},
   "outputs": [],
   "source": [
    "# Load and preprocess the data\n",
    "print(\"Loading and preprocessing data...\")\n",
    "\n",
    "# Load the real Himalayan expedition dataset\n",
    "expeditions, members, peaks = load_data()\n",
    "\n",
    "if expeditions is not None:\n",
    "    print(\"Data loaded successfully!\")\n",
    "    print(f\"Expeditions shape: {expeditions.shape}\")\n",
    "    print(f\"Members shape: {members.shape}\")\n",
    "    print(f\"Peaks shape: {peaks.shape}\")\n",
    "    \n",
    "    # Create master dataset\n",
    "    df = create_master_dataset(expeditions, members, peaks)\n",
    "    if df is not None:\n",
    "        print(f\"Created master dataset: {df.shape}\")\n",
    "        print(\"First few rows of master dataset:\")\n",
    "        print(df.head())\n",
    "    else:\n",
    "        print(\"Failed to create master dataset\")\n",
    "else:\n",
    "    print(\"Could not load real data.\")"
   ]
  },
  {
   "cell_type": "code",
   "execution_count": null,
   "id": "547c66cb",
   "metadata": {},
   "outputs": [],
   "source": [
    "# Load and preprocess the data\n",
    "print(\"Loading and preprocessing data...\")\n",
    "\n",
    "# Load the real Himalayan expedition dataset\n",
    "# Make sure you've downloaded the dataset from Kaggle and placed it in data/\n",
    "expeditions, members, peaks = load_data()\n",
    "\n",
    "if expeditions is not None:\n",
    "    print(\"Data loaded successfully!\")\n",
    "    \n",
    "    # Create master dataset by joining all three DataFrames\n",
    "    df = create_master_dataset(expeditions, members, peaks)\n",
    "    print(f\"Created master dataset: {df.shape}\")\n",
    "else:\n",
    "    print(\"Could not load real data. Creating sample data for demonstration.\")\n",
    "    \n",
    "    # Create sample data for demonstration\n",
    "    np.random.seed(42)\n",
    "    n_samples = 1000\n",
    "    \n",
    "    sample_data = {\n",
    "        'age': np.random.randint(20, 65, n_samples),\n",
    "        'sex': np.random.choice(['M', 'F'], n_samples),\n",
    "        'season': np.random.choice(['Spring', 'Autumn', 'Winter', 'Summer'], n_samples),\n",
    "        'members': np.random.randint(1, 20, n_samples),\n",
    "        'hired_staff': np.random.randint(0, 15, n_samples),\n",
    "        'heightm': np.random.randint(6000, 8900, n_samples),\n",
    "        'o2used': np.random.choice([True, False], n_samples),\n",
    "        'totmembers': np.random.randint(1, 20, n_samples),\n",
    "        'success1': np.random.choice([True, False], n_samples)\n",
    "    }\n",
    "    \n",
    "    df = pd.DataFrame(sample_data)\n",
    "    print(f\"Created sample dataset: {df.shape}\")"
   ]
  }
 ],
 "metadata": {
  "kernelspec": {
   "display_name": "Python 3",
   "language": "python",
   "name": "python3"
  },
  "language_info": {
   "codemirror_mode": {
    "name": "ipython",
    "version": 3
   },
   "file_extension": ".py",
   "mimetype": "text/x-python",
   "name": "python",
   "nbconvert_exporter": "python",
   "pygments_lexer": "ipython3",
   "version": "3.10.11"
  }
 },
 "nbformat": 4,
 "nbformat_minor": 5
}
