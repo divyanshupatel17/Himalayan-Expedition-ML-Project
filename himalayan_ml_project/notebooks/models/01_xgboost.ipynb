{
 "cells": [
  {
   "cell_type": "markdown",
   "id": "a256854b",
   "metadata": {},
   "source": [
    "# Himalayan Expedition Success Prediction - XGBoost Model\n",
    "\n",
    "**Author**: \n",
    "\n",
    "This notebook demonstrates the implementation of an XGBoost model for predicting Himalayan expedition success."
   ]
  },
  {
   "cell_type": "code",
   "execution_count": null,
   "id": "7ab5b542",
   "metadata": {},
   "outputs": [],
   "source": [
    "# Import required libraries\n",
    "import pandas as pd\n",
    "import numpy as np\n",
    "import sys\n",
    "import os\n",
    "\n",
    "# Add the src directory to the path\n",
    "sys.path.append(os.path.join('..', '..', 'src'))\n",
    "\n",
    "# Import custom modules\n",
    "from data_loader import load_data, create_master_dataset\n",
    "from utils import prepare_features, save_model, evaluate_model\n",
    "\n",
    "import xgboost as xgb\n",
    "from sklearn.model_selection import train_test_split\n",
    "from sklearn.preprocessing import StandardScaler\n",
    "\n",
    "print(\"XGBoost Model Implementation for Himalayan Expedition Success Prediction\")"
   ]
  },
  {
   "cell_type": "code",
   "execution_count": null,
   "id": "31004663",
   "metadata": {},
   "outputs": [],
   "source": [
    "# Load and preprocess the data\n",
    "print(\"Loading and preprocessing data...\")\n",
    "\n",
    "# Load the real Himalayan expedition dataset\n",
    "# Make sure you've downloaded the dataset from Kaggle and placed it in data/\n",
    "expeditions, members, peaks = load_data()\n",
    "\n",
    "if expeditions is not None:\n",
    "    print(\"Data loaded successfully!\")\n",
    "    \n",
    "    # Create master dataset by joining all three DataFrames\n",
    "    df = create_master_dataset(expeditions, members, peaks)\n",
    "    print(f\"Created master dataset: {df.shape}\")\n",
    "else:\n",
    "    print(\"Could not load real data. Creating sample data for demonstration.\")\n",
    "    \n",
    "    # Create sample data for demonstration\n",
    "    np.random.seed(42)\n",
    "    n_samples = 1000\n",
    "    \n",
    "    sample_data = {\n",
    "        'age': np.random.randint(20, 65, n_samples),\n",
    "        'sex': np.random.choice(['M', 'F'], n_samples),\n",
    "        'season': np.random.choice(['Spring', 'Autumn', 'Winter', 'Summer'], n_samples),\n",
    "        'members': np.random.randint(1, 20, n_samples),\n",
    "        'hired_staff': np.random.randint(0, 15, n_samples),\n",
    "        'heightm': np.random.randint(6000, 8900, n_samples),\n",
    "        'o2used': np.random.choice([True, False], n_samples),\n",
    "        'totmembers': np.random.randint(1, 20, n_samples),\n",
    "        'success1': np.random.choice([True, False], n_samples)\n",
    "    }\n",
    "    \n",
    "    df = pd.DataFrame(sample_data)\n",
    "    print(f\"Created sample dataset: {df.shape}\")"
   ]
  },
  {
   "cell_type": "code",
   "execution_count": null,
   "id": "96b3be56",
   "metadata": {},
   "outputs": [],
   "source": [
    "# Prepare features for modeling\n",
    "print(\"Preparing features...\")\n",
    "\n",
    "X, y, encoders = prepare_features(df)\n",
    "print(f\"Feature matrix shape: {X.shape}\")\n",
    "print(f\"Target vector shape: {y.shape}\")\n",
    "\n",
    "# Split the data\n",
    "X_train, X_test, y_train, y_test = train_test_split(X, y, test_size=0.2, random_state=42)\n",
    "\n",
    "# Scale features\n",
    "scaler = StandardScaler()\n",
    "X_train_scaled = scaler.fit_transform(X_train)\n",
    "X_test_scaled = scaler.transform(X_test)\n",
    "\n",
    "print(f\"Training set size: {X_train.shape[0]} samples\")\n",
    "print(f\"Test set size: {X_test.shape[0]} samples\")"
   ]
  },
  {
   "cell_type": "code",
   "execution_count": null,
   "id": "85cf8cb0",
   "metadata": {},
   "outputs": [],
   "source": [
    "# XGBoost Model Implementation\n",
    "print(\"Training XGBoost model...\")\n",
    "\n",
    "# Create XGBoost classifier\n",
    "xgb_model = xgb.XGBClassifier(\n",
    "    n_estimators=100,\n",
    "    max_depth=6,\n",
    "    learning_rate=0.1,\n",
    "    subsample=0.8,\n",
    "    random_state=42\n",
    ")\n",
    "\n",
    "# Train the model\n",
    "xgb_model.fit(X_train_scaled, y_train)\n",
    "\n",
    "# Make predictions\n",
    "y_pred = xgb_model.predict(X_test_scaled)\n",
    "\n",
    "# Calculate accuracy\n",
    "results = evaluate_model(y_test, y_pred)\n",
    "print(f\"XGBoost Model Accuracy: {results['accuracy']:.4f}\")"
   ]
  },
  {
   "cell_type": "code",
   "execution_count": null,
   "id": "ce0ee5a0",
   "metadata": {},
   "outputs": [],
   "source": [
    "# Save the model\n",
    "print(\"Saving the model...\")\n",
    "save_model(xgb_model, encoders, scaler, 'xgboost')\n",
    "print(\"Model saved successfully!\")\n",
    "\n",
    "print(\"\\nXGBoost model training completed!\")\n",
    "print(f\"Accuracy: {results['accuracy']:.4f}\")\n",
    "print(\"Model saved to saved_models/xgboost_model.pkl\")"
   ]
  }
 ],
 "metadata": {
  "kernelspec": {
   "display_name": "Python 3",
   "language": "python",
   "name": "python3"
  },
  "language_info": {
   "codemirror_mode": {
    "name": "ipython",
    "version": 3
   },
   "file_extension": ".py",
   "mimetype": "text/x-python",
   "name": "python",
   "nbconvert_exporter": "python",
   "pygments_lexer": "ipython3",
   "version": "3.10.11"
  }
 },
 "nbformat": 4,
 "nbformat_minor": 5
}
